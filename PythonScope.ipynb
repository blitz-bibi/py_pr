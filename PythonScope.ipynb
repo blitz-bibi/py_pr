{
  "nbformat": 4,
  "nbformat_minor": 0,
  "metadata": {
    "colab": {
      "name": "PythonScope.ipynb",
      "provenance": []
    },
    "kernelspec": {
      "name": "python3",
      "display_name": "Python 3"
    },
    "language_info": {
      "name": "python"
    }
  },
  "cells": [
    {
      "cell_type": "markdown",
      "metadata": {
        "id": "mnNtrqEpFNxN"
      },
      "source": [
        "Local Scope"
      ]
    },
    {
      "cell_type": "code",
      "metadata": {
        "id": "Exu6oCdbFUbS",
        "colab": {
          "base_uri": "https://localhost:8080/"
        },
        "outputId": "b1acee1e-05b4-4308-8dda-88cfe270a86f"
      },
      "source": [
        "def myfunc():\n",
        "  x = 300\n",
        "  print(x)\n",
        "\n",
        "myfunc() "
      ],
      "execution_count": 1,
      "outputs": [
        {
          "output_type": "stream",
          "text": [
            "300\n"
          ],
          "name": "stdout"
        }
      ]
    },
    {
      "cell_type": "markdown",
      "metadata": {
        "id": "ZqO6BhAA7HhR"
      },
      "source": [
        "Function Inside Function"
      ]
    },
    {
      "cell_type": "code",
      "metadata": {
        "colab": {
          "base_uri": "https://localhost:8080/"
        },
        "id": "8KmhIvIA7IzW",
        "outputId": "a6c3a3bb-9055-40bb-efe5-5d230ac359ea"
      },
      "source": [
        "def myfunc():\n",
        "  x = 300\n",
        "  def myinnerfunc():\n",
        "    print(x)\n",
        "  myinnerfunc()\n",
        "\n",
        "myfunc() "
      ],
      "execution_count": 2,
      "outputs": [
        {
          "output_type": "stream",
          "text": [
            "300\n"
          ],
          "name": "stdout"
        }
      ]
    },
    {
      "cell_type": "markdown",
      "metadata": {
        "id": "H82R2fJW7O_o"
      },
      "source": [
        "Global Scope"
      ]
    },
    {
      "cell_type": "code",
      "metadata": {
        "colab": {
          "base_uri": "https://localhost:8080/"
        },
        "id": "3fsHjlJL7Pjw",
        "outputId": "e80f541e-ccde-4e39-f36d-46e7579d5002"
      },
      "source": [
        "x = 300\n",
        "\n",
        "def myfunc():\n",
        "  print(x)\n",
        "\n",
        "myfunc()\n",
        "\n",
        "print(x) "
      ],
      "execution_count": 3,
      "outputs": [
        {
          "output_type": "stream",
          "text": [
            "300\n",
            "300\n"
          ],
          "name": "stdout"
        }
      ]
    },
    {
      "cell_type": "code",
      "metadata": {
        "id": "J5tbENvU7SEn"
      },
      "source": [
        "Naming Variables"
      ],
      "execution_count": null,
      "outputs": []
    },
    {
      "cell_type": "markdown",
      "metadata": {
        "id": "Q7baKhux7Tzh"
      },
      "source": [
        "x = 300\n",
        "\n",
        "def myfunc():\n",
        "  x = 200\n",
        "  print(x)\n",
        "\n",
        "myfunc()\n",
        "\n",
        "print(x) "
      ]
    },
    {
      "cell_type": "code",
      "metadata": {
        "id": "NBDbSr2I7V_2"
      },
      "source": [
        "Global Keyword"
      ],
      "execution_count": null,
      "outputs": []
    },
    {
      "cell_type": "markdown",
      "metadata": {
        "id": "kolrI6An7XuH"
      },
      "source": [
        "def myfunc():\n",
        "  global x\n",
        "  x = 300\n",
        "\n",
        "myfunc()\n",
        "\n",
        "print(x)"
      ]
    },
    {
      "cell_type": "code",
      "metadata": {
        "id": "4FgNNP0b7aNv"
      },
      "source": [
        ""
      ],
      "execution_count": null,
      "outputs": []
    }
  ]
}